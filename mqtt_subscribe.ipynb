{
  "cells": [
    {
      "cell_type": "code",
      "execution_count": null,
      "metadata": {
        "colab": {
          "base_uri": "https://localhost:8080/"
        },
        "id": "FweJOhGBY39R",
        "outputId": "7e3bbc2a-acca-48e4-96d1-36d1ab2a3dd0"
      },
      "outputs": [
        {
          "name": "stdout",
          "output_type": "stream",
          "text": [
            "Collecting paho-mqtt\n",
            "  Downloading paho_mqtt-2.1.0-py3-none-any.whl.metadata (23 kB)\n",
            "Downloading paho_mqtt-2.1.0-py3-none-any.whl (67 kB)\n",
            "\u001b[?25l   \u001b[90m━━━━━━━━━━━━━━━━━━━━━━━━━━━━━━━━━━━━━━━━\u001b[0m \u001b[32m0.0/67.2 kB\u001b[0m \u001b[31m?\u001b[0m eta \u001b[36m-:--:--\u001b[0m\r\u001b[2K   \u001b[90m━━━━━━━━━━━━━━━━━━━━━━━━━━━━━━━━━━━━━━━━\u001b[0m \u001b[32m67.2/67.2 kB\u001b[0m \u001b[31m2.6 MB/s\u001b[0m eta \u001b[36m0:00:00\u001b[0m\n",
            "\u001b[?25hInstalling collected packages: paho-mqtt\n",
            "Successfully installed paho-mqtt-2.1.0\n"
          ]
        }
      ],
      "source": [
        "!pip install paho-mqtt"
      ]
    },
    {
      "cell_type": "markdown",
      "metadata": {
        "id": "hG7fsM9Swflp"
      },
      "source": [
        "# MQTT Subscribe 실습 설명\n",
        "\n",
        "- **on_message**  \n",
        "  구독한 topic에서 메시지가 도착했을 때 자동 실행되는 콜백 함수  \n",
        "  → `msg.topic`, `msg.payload`를 이용해 토픽과 메시지 내용을 확인  \n",
        "\n",
        "- **on_connect**  \n",
        "  브로커(MQTT 서버)에 연결이 성공했을 때 자동 실행되는 콜백 함수  \n",
        "  → 연결이 되면 특정 topic을 subscribe(가입)  \n",
        "\n",
        "- **브로커 연결**  \n",
        "  `test.mosquitto.org` 서버에 접속, 기본 포트 **1883** 사용  \n",
        "\n",
        "- **특정 topic 가입**  \n",
        "  `on_connect` 안에서 `client.subscribe(\"ewha/iot/2025\")` 호출 시점에 가입됨  \n",
        "\n",
        "- **동작 흐름**  \n",
        "  1. Colab에서 브로커에 연결  \n",
        "  2. 특정 topic(`ewha/iot/2025`) 구독  \n",
        "  3. 모바일 앱에서 해당 topic으로 메시지 publish  \n",
        "  4. 메시지가 들어오면 → `on_message` 함수가 실행되어 Colab 출력창에 표시됨  \n"
      ]
    },
    {
      "cell_type": "code",
      "execution_count": null,
      "metadata": {
        "id": "F_z5Pqe8Y7kK"
      },
      "outputs": [],
      "source": [
        "import paho.mqtt.client as mqtt"
      ]
    },
    {
      "cell_type": "code",
      "execution_count": null,
      "metadata": {
        "id": "ejQ_vn0UY84h"
      },
      "outputs": [],
      "source": [
        "# 메시지가 도착했을 때 실행됨\n",
        "def on_message(client, userdata, msg):\n",
        "    print(msg.topic+\" \"+str(msg.payload.decode('utf8')))"
      ]
    },
    {
      "cell_type": "code",
      "execution_count": null,
      "metadata": {
        "colab": {
          "background_save": true,
          "base_uri": "https://localhost:8080/"
        },
        "id": "1EJwcaJBZDuN",
        "outputId": "721087f0-b5df-45bc-cbb0-b83bcb9e6403"
      },
      "outputs": [
        {
          "name": "stdout",
          "output_type": "stream",
          "text": [
            "Connected with result code Success\n",
            "ewha/iot/2025 2391017 이윤지\n",
            "ewha/iot/2025 2391017 이윤지\n",
            "ewha/iot/2025 2391017 이윤지\n",
            "ewha/iot/2025 2391017 이윤지\n",
            "ewha/iot/2025 10월 2일 과제\n",
            "ewha/iot/2025 test\n",
            "ewha/iot/2025 hi~\n",
            "ewha/iot/2025 우와아아~\n",
            "ewha/iot/2025 우와아아~\n",
            "ewha/iot/2025 즐거운 연휴 보내세요~\n",
            "ewha/iot/2025 2270056 이설하\n",
            "ewha/iot/2025 2270056 이설하\n"
          ]
        }
      ],
      "source": [
        "# 브로커에 연결되었을 때 실행됨\n",
        "def on_connect(client, userdata, flags, reason_code, properties):\n",
        "    print(f\"Connected with result code {reason_code}\")\n",
        "    # Subscribing in on_connect() means that if we lose the connection and\n",
        "    # reconnect then subscriptions will be renewed.\n",
        "    # 연결되면 특정 토픽에 가입(subscribe)\n",
        "    client.subscribe(\"ewha/iot/2025\")\n",
        "\n",
        "# MQTT 클라이언트 생성\n",
        "mqttc = mqtt.Client(mqtt.CallbackAPIVersion.VERSION2)\n",
        "mqttc.on_connect = on_connect\n",
        "mqttc.on_message = on_message\n",
        "\n",
        "# 브로커(test.mosquitto.org) 접속, 포트 1883 사용\n",
        "mqttc.connect(\"test.mosquitto.org\", 1883, 60)\n",
        "\n",
        "# Blocking call that processes network traffic, dispatches callbacks and\n",
        "# handles reconnecting.\n",
        "# Other loop*() functions are available that give a threaded interface and a\n",
        "# manual interface.\n",
        "# 무한 루프: 네트워크 처리 + 콜백 실행 + 재연결 처리\n",
        "mqttc.loop_forever()"
      ]
    }
  ],
  "metadata": {
    "colab": {
      "provenance": []
    },
    "kernelspec": {
      "display_name": "Python 3",
      "name": "python3"
    },
    "language_info": {
      "name": "python"
    }
  },
  "nbformat": 4,
  "nbformat_minor": 0
}